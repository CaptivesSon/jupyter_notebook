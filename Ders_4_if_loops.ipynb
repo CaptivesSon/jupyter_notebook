{
 "cells": [
  {
   "cell_type": "markdown",
   "id": "547b757c",
   "metadata": {},
   "source": [
    "# IfControls"
   ]
  },
  {
   "cell_type": "code",
   "execution_count": 1,
   "id": "8fd42b89",
   "metadata": {},
   "outputs": [
    {
     "data": {
      "text/plain": [
       "True"
      ]
     },
     "execution_count": 1,
     "metadata": {},
     "output_type": "execute_result"
    }
   ],
   "source": [
    "2>1 and 3<5 #logic \"ve\" "
   ]
  },
  {
   "cell_type": "code",
   "execution_count": 2,
   "id": "118eae67",
   "metadata": {},
   "outputs": [
    {
     "data": {
      "text/plain": [
       "True"
      ]
     },
     "execution_count": 2,
     "metadata": {},
     "output_type": "execute_result"
    }
   ],
   "source": [
    "2>1 or 1>2 #logic veya"
   ]
  },
  {
   "cell_type": "code",
   "execution_count": 3,
   "id": "7f435524",
   "metadata": {},
   "outputs": [
    {
     "data": {
      "text/plain": [
       "False"
      ]
     },
     "execution_count": 3,
     "metadata": {},
     "output_type": "execute_result"
    }
   ],
   "source": [
    "not 1 == 1"
   ]
  },
  {
   "cell_type": "code",
   "execution_count": 4,
   "id": "c21ddeec",
   "metadata": {},
   "outputs": [
    {
     "data": {
      "text/plain": [
       "True"
      ]
     },
     "execution_count": 4,
     "metadata": {},
     "output_type": "execute_result"
    }
   ],
   "source": [
    "10 in [10,20,30]"
   ]
  },
  {
   "cell_type": "code",
   "execution_count": 5,
   "id": "d0c83ed3",
   "metadata": {},
   "outputs": [
    {
     "data": {
      "text/plain": [
       "True"
      ]
     },
     "execution_count": 5,
     "metadata": {},
     "output_type": "execute_result"
    }
   ],
   "source": [
    "5 not in [10,20,30]"
   ]
  },
  {
   "cell_type": "code",
   "execution_count": 6,
   "id": "7848212f",
   "metadata": {},
   "outputs": [
    {
     "data": {
      "text/plain": [
       "True"
      ]
     },
     "execution_count": 6,
     "metadata": {},
     "output_type": "execute_result"
    }
   ],
   "source": [
    "5 in (10,5,15)"
   ]
  },
  {
   "cell_type": "code",
   "execution_count": 7,
   "id": "a1f27ecb",
   "metadata": {},
   "outputs": [
    {
     "data": {
      "text/plain": [
       "True"
      ]
     },
     "execution_count": 7,
     "metadata": {},
     "output_type": "execute_result"
    }
   ],
   "source": [
    "5 in {5,10,15}"
   ]
  },
  {
   "cell_type": "code",
   "execution_count": 8,
   "id": "adf2edef",
   "metadata": {},
   "outputs": [],
   "source": [
    "#in ifadesi sözlükte kullanılamaz."
   ]
  },
  {
   "cell_type": "code",
   "execution_count": 9,
   "id": "aca85072",
   "metadata": {},
   "outputs": [],
   "source": [
    "myDictionary = {\"a\":10, \"b\":5, \"c\":20}"
   ]
  },
  {
   "cell_type": "code",
   "execution_count": 10,
   "id": "d1241b5f",
   "metadata": {},
   "outputs": [
    {
     "data": {
      "text/plain": [
       "True"
      ]
     },
     "execution_count": 10,
     "metadata": {},
     "output_type": "execute_result"
    }
   ],
   "source": [
    "5 in myDictionary.values() #böyle yapılabilir"
   ]
  },
  {
   "cell_type": "code",
   "execution_count": 11,
   "id": "1f2b9ac6",
   "metadata": {},
   "outputs": [
    {
     "data": {
      "text/plain": [
       "True"
      ]
     },
     "execution_count": 11,
     "metadata": {},
     "output_type": "execute_result"
    }
   ],
   "source": [
    "\"b\" in myDictionary.keys()"
   ]
  },
  {
   "cell_type": "code",
   "execution_count": 12,
   "id": "5d8a8627",
   "metadata": {},
   "outputs": [],
   "source": [
    "mySuperhero = \"Batman\""
   ]
  },
  {
   "cell_type": "code",
   "execution_count": 13,
   "id": "f8a5f8fd",
   "metadata": {},
   "outputs": [
    {
     "name": "stdout",
     "output_type": "stream",
     "text": [
      "Batmann\n"
     ]
    }
   ],
   "source": [
    "if mySuperhero:\n",
    "    #indentation\n",
    "    print(\"Batmann\")"
   ]
  },
  {
   "cell_type": "code",
   "execution_count": 14,
   "id": "e6f67d97",
   "metadata": {},
   "outputs": [],
   "source": [
    "mySuperherolist = [\"Batman\", \"Superman\", \"Spiderman\"]"
   ]
  },
  {
   "cell_type": "code",
   "execution_count": 15,
   "id": "6528ebe8",
   "metadata": {},
   "outputs": [
    {
     "name": "stdout",
     "output_type": "stream",
     "text": [
      ":)\n"
     ]
    }
   ],
   "source": [
    "if mySuperhero in mySuperherolist:\n",
    "    print(\":)\")"
   ]
  },
  {
   "cell_type": "markdown",
   "id": "dd59651a",
   "metadata": {},
   "source": [
    "# Loops"
   ]
  },
  {
   "cell_type": "code",
   "execution_count": 17,
   "id": "d3328c77",
   "metadata": {},
   "outputs": [],
   "source": [
    "#for loop, while loop"
   ]
  },
  {
   "cell_type": "code",
   "execution_count": 18,
   "id": "fb4cee54",
   "metadata": {},
   "outputs": [],
   "source": [
    "myList = [10, 20, 30, 40, 50, 60, 70, 80]"
   ]
  },
  {
   "cell_type": "code",
   "execution_count": 21,
   "id": "d48fb30a",
   "metadata": {},
   "outputs": [
    {
     "name": "stdout",
     "output_type": "stream",
     "text": [
      "4.0\n",
      "8.0\n",
      "12.0\n",
      "16.0\n",
      "20.0\n",
      "24.0\n",
      "28.0\n",
      "32.0\n"
     ]
    }
   ],
   "source": [
    "for num in myList:\n",
    "    print(num/5*2)"
   ]
  },
  {
   "cell_type": "code",
   "execution_count": 22,
   "id": "d622df30",
   "metadata": {},
   "outputs": [],
   "source": [
    "myString = \"Muhammet Gönültaş\""
   ]
  },
  {
   "cell_type": "code",
   "execution_count": 24,
   "id": "9d1d0eb7",
   "metadata": {},
   "outputs": [
    {
     "name": "stdout",
     "output_type": "stream",
     "text": [
      "M\n",
      "u\n",
      "h\n",
      "a\n",
      "m\n",
      "m\n",
      "e\n",
      "t\n",
      " \n",
      "G\n",
      "ö\n",
      "n\n",
      "ü\n",
      "l\n",
      "t\n",
      "a\n",
      "ş\n"
     ]
    }
   ],
   "source": [
    "for letter in myString:\n",
    "    print(letter)"
   ]
  },
  {
   "cell_type": "code",
   "execution_count": 25,
   "id": "6385d4ef",
   "metadata": {},
   "outputs": [],
   "source": [
    "myNewlist = [(\"a\",\"b\"),(\"c\",\"d\"),(\"e\",\"f\"),(\"g\",\"h\")]"
   ]
  },
  {
   "cell_type": "code",
   "execution_count": 26,
   "id": "1eb8acb9",
   "metadata": {},
   "outputs": [],
   "source": [
    "#tuple unpacking"
   ]
  },
  {
   "cell_type": "code",
   "execution_count": 28,
   "id": "08fe4e3b",
   "metadata": {},
   "outputs": [
    {
     "name": "stdout",
     "output_type": "stream",
     "text": [
      "a\n",
      "c\n",
      "e\n",
      "g\n"
     ]
    }
   ],
   "source": [
    "for (x,y) in myNewlist:\n",
    "    print(x) #üçlü dörtlü vs de olur"
   ]
  },
  {
   "cell_type": "code",
   "execution_count": 30,
   "id": "829d9900",
   "metadata": {},
   "outputs": [],
   "source": [
    "myDictionary = {\"k1\":100, \"k2\":200, \"k3\":300, \"k4\":400}"
   ]
  },
  {
   "cell_type": "code",
   "execution_count": 31,
   "id": "832219e7",
   "metadata": {},
   "outputs": [
    {
     "name": "stdout",
     "output_type": "stream",
     "text": [
      "k1\n",
      "k2\n",
      "k3\n",
      "k4\n"
     ]
    }
   ],
   "source": [
    "for element in myDictionary:\n",
    "    print(element)"
   ]
  },
  {
   "cell_type": "code",
   "execution_count": 32,
   "id": "cda4cf3d",
   "metadata": {},
   "outputs": [
    {
     "data": {
      "text/plain": [
       "dict_items([('k1', 100), ('k2', 200), ('k3', 300), ('k4', 400)])"
      ]
     },
     "execution_count": 32,
     "metadata": {},
     "output_type": "execute_result"
    }
   ],
   "source": [
    "myDictionary.items()"
   ]
  },
  {
   "cell_type": "code",
   "execution_count": 33,
   "id": "33c8cd3f",
   "metadata": {},
   "outputs": [
    {
     "name": "stdout",
     "output_type": "stream",
     "text": [
      "100\n",
      "200\n",
      "300\n",
      "400\n"
     ]
    }
   ],
   "source": [
    "for (key,value) in myDictionary.items():\n",
    "    print(value)"
   ]
  },
  {
   "cell_type": "code",
   "execution_count": 34,
   "id": "af39c9d7",
   "metadata": {},
   "outputs": [],
   "source": [
    "#continue - break - pass"
   ]
  },
  {
   "cell_type": "code",
   "execution_count": 37,
   "id": "4194f313",
   "metadata": {},
   "outputs": [
    {
     "name": "stdout",
     "output_type": "stream",
     "text": [
      "10\n",
      "20\n",
      "30\n",
      "40\n",
      "yey\n",
      "50\n",
      "60\n",
      "70\n",
      "80\n"
     ]
    }
   ],
   "source": [
    "for number in myList:\n",
    "    print(number)\n",
    "    if number == 40:\n",
    "        print(\"yey\")"
   ]
  },
  {
   "cell_type": "code",
   "execution_count": 38,
   "id": "4c4933e1",
   "metadata": {},
   "outputs": [
    {
     "name": "stdout",
     "output_type": "stream",
     "text": [
      "10\n",
      "20\n",
      "30\n",
      "40\n",
      "yey\n"
     ]
    }
   ],
   "source": [
    "for number in myList:\n",
    "    print(number)\n",
    "    if number == 40:\n",
    "        print(\"yey\")\n",
    "        break"
   ]
  },
  {
   "cell_type": "code",
   "execution_count": 40,
   "id": "ebbc0fd5",
   "metadata": {},
   "outputs": [
    {
     "name": "stdout",
     "output_type": "stream",
     "text": [
      "10\n",
      "20\n",
      "30\n",
      "40\n",
      "50\n",
      "60\n",
      "70\n",
      "80\n"
     ]
    }
   ],
   "source": [
    "for number in myList:\n",
    "    print(number)\n",
    "    if number == 40:\n",
    "        continue #burada dur ve döngünün başına dön demek o yüzden yey yazdırmadı\n",
    "        print(\"yey\")\n",
    "        "
   ]
  },
  {
   "cell_type": "code",
   "execution_count": 41,
   "id": "9214cb73",
   "metadata": {},
   "outputs": [
    {
     "data": {
      "text/plain": [
       "[10, 20, 30, 40, 50, 60, 70, 80]"
      ]
     },
     "execution_count": 41,
     "metadata": {},
     "output_type": "execute_result"
    }
   ],
   "source": [
    "myList"
   ]
  },
  {
   "cell_type": "code",
   "execution_count": 42,
   "id": "7642171a",
   "metadata": {},
   "outputs": [
    {
     "name": "stdout",
     "output_type": "stream",
     "text": [
      "2o in myList\n",
      "2o in myList\n",
      "2o in myList\n",
      "2o in myList\n",
      "2o in myList\n",
      "2o in myList\n",
      "2o in myList\n"
     ]
    }
   ],
   "source": [
    "while 20 in myList:\n",
    "    print(\"2o in myList\")\n",
    "    myList.pop()"
   ]
  },
  {
   "cell_type": "code",
   "execution_count": 46,
   "id": "d4b2b646",
   "metadata": {},
   "outputs": [],
   "source": [
    "myList = [10,20,30,40,50] "
   ]
  },
  {
   "cell_type": "code",
   "execution_count": 47,
   "id": "e33f20d3",
   "metadata": {},
   "outputs": [
    {
     "name": "stdout",
     "output_type": "stream",
     "text": [
      "myList : [10, 20, 30, 40, 50]\n"
     ]
    }
   ],
   "source": [
    "print(f\"myList : {myList}\")"
   ]
  },
  {
   "cell_type": "code",
   "execution_count": 49,
   "id": "a9e36f21",
   "metadata": {},
   "outputs": [
    {
     "name": "stdout",
     "output_type": "stream",
     "text": [
      "numbers [10, 20, 30, 40, 50]\n"
     ]
    }
   ],
   "source": [
    "print(\"numbers\",myList)"
   ]
  },
  {
   "cell_type": "code",
   "execution_count": 50,
   "id": "c26ba2f2",
   "metadata": {},
   "outputs": [],
   "source": [
    "#range "
   ]
  },
  {
   "cell_type": "code",
   "execution_count": 51,
   "id": "c39d8b9b",
   "metadata": {},
   "outputs": [
    {
     "data": {
      "text/plain": [
       "range(0, 50)"
      ]
     },
     "execution_count": 51,
     "metadata": {},
     "output_type": "execute_result"
    }
   ],
   "source": [
    "range(50)"
   ]
  },
  {
   "cell_type": "code",
   "execution_count": 52,
   "id": "4a8205ec",
   "metadata": {},
   "outputs": [
    {
     "data": {
      "text/plain": [
       "[0, 1, 2, 3, 4, 5, 6, 7, 8, 9, 10, 11, 12, 13, 14, 15, 16, 17, 18, 19]"
      ]
     },
     "execution_count": 52,
     "metadata": {},
     "output_type": "execute_result"
    }
   ],
   "source": [
    "list(range(20))"
   ]
  },
  {
   "cell_type": "code",
   "execution_count": 53,
   "id": "9e703f81",
   "metadata": {},
   "outputs": [
    {
     "name": "stdout",
     "output_type": "stream",
     "text": [
      "0\n",
      "2\n",
      "4\n",
      "6\n",
      "8\n",
      "10\n",
      "12\n",
      "14\n",
      "16\n",
      "18\n"
     ]
    }
   ],
   "source": [
    "for num in list(range(10)):\n",
    "    print(num*2)"
   ]
  },
  {
   "cell_type": "code",
   "execution_count": 54,
   "id": "2930b340",
   "metadata": {},
   "outputs": [
    {
     "data": {
      "text/plain": [
       "[5, 7, 9, 11, 13, 15, 17, 19, 21, 23]"
      ]
     },
     "execution_count": 54,
     "metadata": {},
     "output_type": "execute_result"
    }
   ],
   "source": [
    "list(range(5,25,2))"
   ]
  },
  {
   "cell_type": "code",
   "execution_count": 55,
   "id": "a6fff0f6",
   "metadata": {},
   "outputs": [
    {
     "data": {
      "text/plain": [
       "[10, 20, 30, 40, 50]"
      ]
     },
     "execution_count": 55,
     "metadata": {},
     "output_type": "execute_result"
    }
   ],
   "source": [
    "myList"
   ]
  },
  {
   "cell_type": "code",
   "execution_count": 59,
   "id": "d3ab88f2",
   "metadata": {},
   "outputs": [
    {
     "name": "stdout",
     "output_type": "stream",
     "text": [
      "0\n",
      "1\n",
      "2\n",
      "3\n",
      "4\n"
     ]
    }
   ],
   "source": [
    "for ix in range(len(myList)):\n",
    "    print(ix)"
   ]
  },
  {
   "cell_type": "code",
   "execution_count": 60,
   "id": "e72d1076",
   "metadata": {},
   "outputs": [
    {
     "name": "stdout",
     "output_type": "stream",
     "text": [
      "10\n",
      "20\n",
      "30\n",
      "40\n",
      "50\n"
     ]
    }
   ],
   "source": [
    "for ix in range(len(myList)):\n",
    "    print(myList[ix])"
   ]
  },
  {
   "cell_type": "code",
   "execution_count": 61,
   "id": "7be3ff0c",
   "metadata": {},
   "outputs": [],
   "source": [
    "#enumerate"
   ]
  },
  {
   "cell_type": "code",
   "execution_count": 63,
   "id": "7a26d390",
   "metadata": {},
   "outputs": [
    {
     "name": "stdout",
     "output_type": "stream",
     "text": [
      "(0, 10)\n",
      "(1, 20)\n",
      "(2, 30)\n",
      "(3, 40)\n",
      "(4, 50)\n"
     ]
    }
   ],
   "source": [
    "for element in enumerate(myList):\n",
    "    print(element)"
   ]
  },
  {
   "cell_type": "code",
   "execution_count": 64,
   "id": "5f24e4b8",
   "metadata": {},
   "outputs": [
    {
     "name": "stdout",
     "output_type": "stream",
     "text": [
      "0\n",
      "1\n",
      "2\n",
      "3\n",
      "4\n"
     ]
    }
   ],
   "source": [
    "for (x,y) in enumerate(myList):\n",
    "    print(x)"
   ]
  },
  {
   "cell_type": "code",
   "execution_count": 65,
   "id": "a70d2166",
   "metadata": {},
   "outputs": [],
   "source": [
    "#random"
   ]
  },
  {
   "cell_type": "code",
   "execution_count": 67,
   "id": "63ef576a",
   "metadata": {},
   "outputs": [],
   "source": [
    "from random import randint"
   ]
  },
  {
   "cell_type": "code",
   "execution_count": 68,
   "id": "499aa890",
   "metadata": {},
   "outputs": [
    {
     "data": {
      "text/plain": [
       "64"
      ]
     },
     "execution_count": 68,
     "metadata": {},
     "output_type": "execute_result"
    }
   ],
   "source": [
    "randint(0,100) #rastgele sayı bul"
   ]
  },
  {
   "cell_type": "code",
   "execution_count": 69,
   "id": "a553ab69",
   "metadata": {},
   "outputs": [],
   "source": [
    "from random import shuffle"
   ]
  },
  {
   "cell_type": "code",
   "execution_count": 70,
   "id": "067af63b",
   "metadata": {},
   "outputs": [
    {
     "data": {
      "text/plain": [
       "[10, 20, 30, 40, 50]"
      ]
     },
     "execution_count": 70,
     "metadata": {},
     "output_type": "execute_result"
    }
   ],
   "source": [
    "myList"
   ]
  },
  {
   "cell_type": "code",
   "execution_count": 73,
   "id": "a0e14c14",
   "metadata": {},
   "outputs": [],
   "source": [
    "shuffle(myList) #karıştır"
   ]
  },
  {
   "cell_type": "code",
   "execution_count": 74,
   "id": "331030b9",
   "metadata": {},
   "outputs": [
    {
     "data": {
      "text/plain": [
       "[10, 30, 40, 20, 50]"
      ]
     },
     "execution_count": 74,
     "metadata": {},
     "output_type": "execute_result"
    }
   ],
   "source": [
    "myList"
   ]
  },
  {
   "cell_type": "code",
   "execution_count": 76,
   "id": "df5166eb",
   "metadata": {},
   "outputs": [
    {
     "data": {
      "text/plain": [
       "2"
      ]
     },
     "execution_count": 76,
     "metadata": {},
     "output_type": "execute_result"
    }
   ],
   "source": [
    "randint(0,len(myList))"
   ]
  },
  {
   "cell_type": "code",
   "execution_count": 79,
   "id": "ba0f4725",
   "metadata": {},
   "outputs": [
    {
     "data": {
      "text/plain": [
       "50"
      ]
     },
     "execution_count": 79,
     "metadata": {},
     "output_type": "execute_result"
    }
   ],
   "source": [
    "myList[randint(0,len(myList)-1)] #listeden rastgele bir sayı"
   ]
  },
  {
   "cell_type": "code",
   "execution_count": 80,
   "id": "a00af3cb",
   "metadata": {},
   "outputs": [],
   "source": [
    "#zip"
   ]
  },
  {
   "cell_type": "code",
   "execution_count": 81,
   "id": "3fe88aeb",
   "metadata": {},
   "outputs": [
    {
     "data": {
      "text/plain": [
       "{'k1': 100, 'k2': 200, 'k3': 300, 'k4': 400}"
      ]
     },
     "execution_count": 81,
     "metadata": {},
     "output_type": "execute_result"
    }
   ],
   "source": [
    "myDictionary"
   ]
  },
  {
   "cell_type": "code",
   "execution_count": 82,
   "id": "f301d1dc",
   "metadata": {},
   "outputs": [
    {
     "data": {
      "text/plain": [
       "[10, 30, 40, 20, 50]"
      ]
     },
     "execution_count": 82,
     "metadata": {},
     "output_type": "execute_result"
    }
   ],
   "source": [
    "myList"
   ]
  },
  {
   "cell_type": "code",
   "execution_count": 83,
   "id": "dab2ac56",
   "metadata": {},
   "outputs": [
    {
     "data": {
      "text/plain": [
       "[('a', 'b'), ('c', 'd'), ('e', 'f'), ('g', 'h')]"
      ]
     },
     "execution_count": 83,
     "metadata": {},
     "output_type": "execute_result"
    }
   ],
   "source": [
    "myNewlist"
   ]
  },
  {
   "cell_type": "code",
   "execution_count": 84,
   "id": "e31ab26e",
   "metadata": {},
   "outputs": [
    {
     "data": {
      "text/plain": [
       "'Muhammet Gönültaş'"
      ]
     },
     "execution_count": 84,
     "metadata": {},
     "output_type": "execute_result"
    }
   ],
   "source": [
    "myString"
   ]
  },
  {
   "cell_type": "code",
   "execution_count": 91,
   "id": "e8e988da",
   "metadata": {},
   "outputs": [],
   "source": [
    "zippedList = zip(myList, myNewlist) #sıkıştırmak"
   ]
  },
  {
   "cell_type": "code",
   "execution_count": 87,
   "id": "f0a5b35d",
   "metadata": {},
   "outputs": [
    {
     "data": {
      "text/plain": [
       "<zip at 0x226c426e4c0>"
      ]
     },
     "execution_count": 87,
     "metadata": {},
     "output_type": "execute_result"
    }
   ],
   "source": [
    "zippedList"
   ]
  },
  {
   "cell_type": "code",
   "execution_count": 88,
   "id": "8f77a88d",
   "metadata": {},
   "outputs": [
    {
     "data": {
      "text/plain": [
       "zip"
      ]
     },
     "execution_count": 88,
     "metadata": {},
     "output_type": "execute_result"
    }
   ],
   "source": [
    "type(zippedList)"
   ]
  },
  {
   "cell_type": "code",
   "execution_count": 89,
   "id": "f3c663e3",
   "metadata": {},
   "outputs": [],
   "source": [
    "zippedList = list(zip(myList, myNewlist))"
   ]
  },
  {
   "cell_type": "code",
   "execution_count": 90,
   "id": "99bff149",
   "metadata": {},
   "outputs": [
    {
     "data": {
      "text/plain": [
       "[(10, ('a', 'b')), (30, ('c', 'd')), (40, ('e', 'f')), (20, ('g', 'h'))]"
      ]
     },
     "execution_count": 90,
     "metadata": {},
     "output_type": "execute_result"
    }
   ],
   "source": [
    "zippedList"
   ]
  },
  {
   "cell_type": "code",
   "execution_count": 92,
   "id": "d7839a3a",
   "metadata": {},
   "outputs": [],
   "source": [
    "myList = []"
   ]
  },
  {
   "cell_type": "code",
   "execution_count": 93,
   "id": "788edf2d",
   "metadata": {},
   "outputs": [
    {
     "data": {
      "text/plain": [
       "'Muhammet Gönültaş'"
      ]
     },
     "execution_count": 93,
     "metadata": {},
     "output_type": "execute_result"
    }
   ],
   "source": [
    "myString"
   ]
  },
  {
   "cell_type": "code",
   "execution_count": 94,
   "id": "22f1793a",
   "metadata": {},
   "outputs": [],
   "source": [
    "for element in myString:\n",
    "    myList.append(element)"
   ]
  },
  {
   "cell_type": "code",
   "execution_count": 95,
   "id": "de819adf",
   "metadata": {},
   "outputs": [
    {
     "data": {
      "text/plain": [
       "['M',\n",
       " 'u',\n",
       " 'h',\n",
       " 'a',\n",
       " 'm',\n",
       " 'm',\n",
       " 'e',\n",
       " 't',\n",
       " ' ',\n",
       " 'G',\n",
       " 'ö',\n",
       " 'n',\n",
       " 'ü',\n",
       " 'l',\n",
       " 't',\n",
       " 'a',\n",
       " 'ş']"
      ]
     },
     "execution_count": 95,
     "metadata": {},
     "output_type": "execute_result"
    }
   ],
   "source": [
    "myList"
   ]
  },
  {
   "cell_type": "code",
   "execution_count": 96,
   "id": "1c137576",
   "metadata": {},
   "outputs": [],
   "source": [
    "#list comprehension"
   ]
  },
  {
   "cell_type": "code",
   "execution_count": 97,
   "id": "03fd49de",
   "metadata": {},
   "outputs": [],
   "source": [
    "myList = [element for element in myString] #yukarıdakinin aynısı ama daha temiz ve kısa"
   ]
  },
  {
   "cell_type": "code",
   "execution_count": 98,
   "id": "4648346f",
   "metadata": {},
   "outputs": [
    {
     "data": {
      "text/plain": [
       "['M',\n",
       " 'u',\n",
       " 'h',\n",
       " 'a',\n",
       " 'm',\n",
       " 'm',\n",
       " 'e',\n",
       " 't',\n",
       " ' ',\n",
       " 'G',\n",
       " 'ö',\n",
       " 'n',\n",
       " 'ü',\n",
       " 'l',\n",
       " 't',\n",
       " 'a',\n",
       " 'ş']"
      ]
     },
     "execution_count": 98,
     "metadata": {},
     "output_type": "execute_result"
    }
   ],
   "source": [
    "myList"
   ]
  },
  {
   "cell_type": "code",
   "execution_count": 100,
   "id": "a121336a",
   "metadata": {},
   "outputs": [],
   "source": [
    "myList = [10, 20, 30, 40, 50, 60]"
   ]
  },
  {
   "cell_type": "code",
   "execution_count": 101,
   "id": "96cce63f",
   "metadata": {},
   "outputs": [],
   "source": [
    "myNew2list = [num/2 for num in myList]"
   ]
  },
  {
   "cell_type": "code",
   "execution_count": 102,
   "id": "40e1b49b",
   "metadata": {},
   "outputs": [
    {
     "data": {
      "text/plain": [
       "[5.0, 10.0, 15.0, 20.0, 25.0, 30.0]"
      ]
     },
     "execution_count": 102,
     "metadata": {},
     "output_type": "execute_result"
    }
   ],
   "source": [
    "myNew2list"
   ]
  },
  {
   "cell_type": "code",
   "execution_count": 107,
   "id": "bcb64768",
   "metadata": {},
   "outputs": [],
   "source": [
    "myNew2list = [] #aynısı ancak çok daha uzun hali\n",
    "for num in myList:\n",
    "    myNew2list.append(num/2 )"
   ]
  },
  {
   "cell_type": "code",
   "execution_count": 108,
   "id": "69523e91",
   "metadata": {},
   "outputs": [
    {
     "data": {
      "text/plain": [
       "[5.0, 10.0, 15.0, 20.0, 25.0, 30.0]"
      ]
     },
     "execution_count": 108,
     "metadata": {},
     "output_type": "execute_result"
    }
   ],
   "source": [
    "myNew2list"
   ]
  },
  {
   "cell_type": "code",
   "execution_count": null,
   "id": "bc6037f2",
   "metadata": {},
   "outputs": [],
   "source": []
  }
 ],
 "metadata": {
  "kernelspec": {
   "display_name": "Python 3 (ipykernel)",
   "language": "python",
   "name": "python3"
  },
  "language_info": {
   "codemirror_mode": {
    "name": "ipython",
    "version": 3
   },
   "file_extension": ".py",
   "mimetype": "text/x-python",
   "name": "python",
   "nbconvert_exporter": "python",
   "pygments_lexer": "ipython3",
   "version": "3.9.13"
  }
 },
 "nbformat": 4,
 "nbformat_minor": 5
}
