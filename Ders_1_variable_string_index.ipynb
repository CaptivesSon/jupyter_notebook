{
 "cells": [
  {
   "cell_type": "markdown",
   "id": "ba0cbe45",
   "metadata": {},
   "source": [
    "# Variables"
   ]
  },
  {
   "cell_type": "code",
   "execution_count": 1,
   "id": "421a1097",
   "metadata": {},
   "outputs": [],
   "source": [
    "age = 50"
   ]
  },
  {
   "cell_type": "code",
   "execution_count": 2,
   "id": "06bc9b4f",
   "metadata": {},
   "outputs": [
    {
     "data": {
      "text/plain": [
       "int"
      ]
     },
     "execution_count": 2,
     "metadata": {},
     "output_type": "execute_result"
    }
   ],
   "source": [
    "type(age)"
   ]
  },
  {
   "cell_type": "code",
   "execution_count": 3,
   "id": "059c4144",
   "metadata": {},
   "outputs": [
    {
     "data": {
      "text/plain": [
       "float"
      ]
     },
     "execution_count": 3,
     "metadata": {},
     "output_type": "execute_result"
    }
   ],
   "source": [
    "type(3.14)"
   ]
  },
  {
   "cell_type": "code",
   "execution_count": 6,
   "id": "a2f59a59",
   "metadata": {},
   "outputs": [
    {
     "data": {
      "text/plain": [
       "float"
      ]
     },
     "execution_count": 6,
     "metadata": {},
     "output_type": "execute_result"
    }
   ],
   "source": [
    "type(40/4)"
   ]
  },
  {
   "cell_type": "code",
   "execution_count": 5,
   "id": "851842ea",
   "metadata": {},
   "outputs": [],
   "source": [
    "# camelCase\n",
    "# snake_case"
   ]
  },
  {
   "cell_type": "code",
   "execution_count": 7,
   "id": "a844a025",
   "metadata": {},
   "outputs": [
    {
     "data": {
      "text/plain": [
       "512"
      ]
     },
     "execution_count": 7,
     "metadata": {},
     "output_type": "execute_result"
    }
   ],
   "source": [
    "2 ** 9 # 2 üssü 9"
   ]
  },
  {
   "cell_type": "code",
   "execution_count": 8,
   "id": "269194f8",
   "metadata": {},
   "outputs": [
    {
     "data": {
      "text/plain": [
       "1"
      ]
     },
     "execution_count": 8,
     "metadata": {},
     "output_type": "execute_result"
    }
   ],
   "source": [
    "10 % 3 # kalan bulma"
   ]
  },
  {
   "cell_type": "markdown",
   "id": "9dc79e29",
   "metadata": {},
   "source": [
    "# Strings"
   ]
  },
  {
   "cell_type": "code",
   "execution_count": 9,
   "id": "8ace91bd",
   "metadata": {},
   "outputs": [],
   "source": [
    "name = \"dursun\""
   ]
  },
  {
   "cell_type": "code",
   "execution_count": 10,
   "id": "7d527835",
   "metadata": {},
   "outputs": [
    {
     "data": {
      "text/plain": [
       "str"
      ]
     },
     "execution_count": 10,
     "metadata": {},
     "output_type": "execute_result"
    }
   ],
   "source": [
    "type(name)"
   ]
  },
  {
   "cell_type": "code",
   "execution_count": 11,
   "id": "9f3a24b9",
   "metadata": {},
   "outputs": [],
   "source": [
    "name = \"Dursun Gönültaş\""
   ]
  },
  {
   "cell_type": "code",
   "execution_count": 13,
   "id": "69e38097",
   "metadata": {},
   "outputs": [
    {
     "data": {
      "text/plain": [
       "'Dursun gönültaş'"
      ]
     },
     "execution_count": 13,
     "metadata": {},
     "output_type": "execute_result"
    }
   ],
   "source": [
    "name.capitalize() #ilk harf büyük"
   ]
  },
  {
   "cell_type": "code",
   "execution_count": 14,
   "id": "0025df00",
   "metadata": {},
   "outputs": [
    {
     "data": {
      "text/plain": [
       "<function str.capitalize()>"
      ]
     },
     "execution_count": 14,
     "metadata": {},
     "output_type": "execute_result"
    }
   ],
   "source": [
    "name.capitalize"
   ]
  },
  {
   "cell_type": "code",
   "execution_count": 15,
   "id": "9fe74f96",
   "metadata": {},
   "outputs": [
    {
     "name": "stdout",
     "output_type": "stream",
     "text": [
      "Help on built-in function count:\n",
      "\n",
      "count(...) method of builtins.str instance\n",
      "    S.count(sub[, start[, end]]) -> int\n",
      "    \n",
      "    Return the number of non-overlapping occurrences of substring sub in\n",
      "    string S[start:end].  Optional arguments start and end are\n",
      "    interpreted as in slice notation.\n",
      "\n"
     ]
    }
   ],
   "source": [
    "help(name.count)"
   ]
  },
  {
   "cell_type": "code",
   "execution_count": 18,
   "id": "3c2a013d",
   "metadata": {},
   "outputs": [
    {
     "data": {
      "text/plain": [
       "1"
      ]
     },
     "execution_count": 18,
     "metadata": {},
     "output_type": "execute_result"
    }
   ],
   "source": [
    "name.count(\"a\") #parantezdekinden kaç tane var sayar"
   ]
  },
  {
   "cell_type": "code",
   "execution_count": 20,
   "id": "dd659ffe",
   "metadata": {},
   "outputs": [
    {
     "data": {
      "text/plain": [
       "'DURSUN GÖNÜLTAŞ'"
      ]
     },
     "execution_count": 20,
     "metadata": {},
     "output_type": "execute_result"
    }
   ],
   "source": [
    "name.upper()"
   ]
  },
  {
   "cell_type": "code",
   "execution_count": 21,
   "id": "6d0e46bb",
   "metadata": {},
   "outputs": [],
   "source": [
    "nameUpper = name.upper()"
   ]
  },
  {
   "cell_type": "code",
   "execution_count": 22,
   "id": "a3d76bb1",
   "metadata": {},
   "outputs": [
    {
     "data": {
      "text/plain": [
       "'DURSUN GÖNÜLTAŞ'"
      ]
     },
     "execution_count": 22,
     "metadata": {},
     "output_type": "execute_result"
    }
   ],
   "source": [
    "nameUpper"
   ]
  },
  {
   "cell_type": "code",
   "execution_count": 24,
   "id": "0241644a",
   "metadata": {},
   "outputs": [
    {
     "data": {
      "text/plain": [
       "15"
      ]
     },
     "execution_count": 24,
     "metadata": {},
     "output_type": "execute_result"
    }
   ],
   "source": [
    "len(name) #tüm karakterler boşluk dahil"
   ]
  },
  {
   "cell_type": "code",
   "execution_count": 28,
   "id": "9f18c0bd",
   "metadata": {},
   "outputs": [
    {
     "name": "stdout",
     "output_type": "stream",
     "text": [
      "Dursun \n",
      "Gönültaş\n"
     ]
    }
   ],
   "source": [
    "print(\"Dursun \\nGönültaş\") #alt satır"
   ]
  },
  {
   "cell_type": "code",
   "execution_count": 26,
   "id": "09f4ac39",
   "metadata": {},
   "outputs": [],
   "source": [
    "#escape characters"
   ]
  },
  {
   "cell_type": "code",
   "execution_count": 2,
   "id": "f1b8b2e6",
   "metadata": {},
   "outputs": [
    {
     "name": "stdout",
     "output_type": "stream",
     "text": [
      "\t deneme\n"
     ]
    }
   ],
   "source": [
    "print(\"\\t deneme\") # bir tab boşluk"
   ]
  },
  {
   "cell_type": "markdown",
   "id": "233db2d5",
   "metadata": {},
   "source": [
    "# Index"
   ]
  },
  {
   "cell_type": "code",
   "execution_count": 3,
   "id": "46de7561",
   "metadata": {},
   "outputs": [],
   "source": [
    "myString = \"Hello Python\""
   ]
  },
  {
   "cell_type": "code",
   "execution_count": 4,
   "id": "da2497f7",
   "metadata": {},
   "outputs": [
    {
     "data": {
      "text/plain": [
       "'e'"
      ]
     },
     "execution_count": 4,
     "metadata": {},
     "output_type": "execute_result"
    }
   ],
   "source": [
    "myString[1]"
   ]
  },
  {
   "cell_type": "code",
   "execution_count": 5,
   "id": "f1c61f56",
   "metadata": {},
   "outputs": [
    {
     "data": {
      "text/plain": [
       "' '"
      ]
     },
     "execution_count": 5,
     "metadata": {},
     "output_type": "execute_result"
    }
   ],
   "source": [
    "myString[5]"
   ]
  },
  {
   "cell_type": "code",
   "execution_count": 10,
   "id": "42369fc0",
   "metadata": {},
   "outputs": [
    {
     "data": {
      "text/plain": [
       "12"
      ]
     },
     "execution_count": 10,
     "metadata": {},
     "output_type": "execute_result"
    }
   ],
   "source": [
    "len(myString) #kaç tane karakter olduğunu söyler indexi değil"
   ]
  },
  {
   "cell_type": "code",
   "execution_count": 8,
   "id": "ad2cc3db",
   "metadata": {},
   "outputs": [
    {
     "data": {
      "text/plain": [
       "11"
      ]
     },
     "execution_count": 8,
     "metadata": {},
     "output_type": "execute_result"
    }
   ],
   "source": [
    "len(myString)-1"
   ]
  },
  {
   "cell_type": "code",
   "execution_count": 9,
   "id": "325663b3",
   "metadata": {},
   "outputs": [
    {
     "data": {
      "text/plain": [
       "'n'"
      ]
     },
     "execution_count": 9,
     "metadata": {},
     "output_type": "execute_result"
    }
   ],
   "source": [
    "myString[11]"
   ]
  },
  {
   "cell_type": "code",
   "execution_count": 11,
   "id": "7ee845dc",
   "metadata": {},
   "outputs": [
    {
     "data": {
      "text/plain": [
       "'n'"
      ]
     },
     "execution_count": 11,
     "metadata": {},
     "output_type": "execute_result"
    }
   ],
   "source": [
    "myString[len(myString)-1]"
   ]
  },
  {
   "cell_type": "code",
   "execution_count": 12,
   "id": "69e3d468",
   "metadata": {},
   "outputs": [
    {
     "data": {
      "text/plain": [
       "'n'"
      ]
     },
     "execution_count": 12,
     "metadata": {},
     "output_type": "execute_result"
    }
   ],
   "source": [
    "myString[-1]"
   ]
  },
  {
   "cell_type": "code",
   "execution_count": 13,
   "id": "dd80c67c",
   "metadata": {},
   "outputs": [
    {
     "data": {
      "text/plain": [
       "'o'"
      ]
     },
     "execution_count": 13,
     "metadata": {},
     "output_type": "execute_result"
    }
   ],
   "source": [
    "myString[-2]"
   ]
  },
  {
   "cell_type": "code",
   "execution_count": 14,
   "id": "43d2cc2d",
   "metadata": {},
   "outputs": [
    {
     "data": {
      "text/plain": [
       "'ab'"
      ]
     },
     "execution_count": 14,
     "metadata": {},
     "output_type": "execute_result"
    }
   ],
   "source": [
    "\"a\"+ \"b\""
   ]
  },
  {
   "cell_type": "code",
   "execution_count": 15,
   "id": "8f626ee7",
   "metadata": {},
   "outputs": [],
   "source": [
    "name = \"dursun\""
   ]
  },
  {
   "cell_type": "code",
   "execution_count": 16,
   "id": "c5a655ae",
   "metadata": {},
   "outputs": [],
   "source": [
    "surname = \"gönültaş\""
   ]
  },
  {
   "cell_type": "code",
   "execution_count": 17,
   "id": "05cd099d",
   "metadata": {},
   "outputs": [],
   "source": [
    "fullname = name + \" \" + surname"
   ]
  },
  {
   "cell_type": "code",
   "execution_count": 18,
   "id": "6be7d701",
   "metadata": {},
   "outputs": [
    {
     "data": {
      "text/plain": [
       "'dursun gönültaş'"
      ]
     },
     "execution_count": 18,
     "metadata": {},
     "output_type": "execute_result"
    }
   ],
   "source": [
    "fullname"
   ]
  },
  {
   "cell_type": "code",
   "execution_count": 19,
   "id": "2012624b",
   "metadata": {},
   "outputs": [
    {
     "data": {
      "text/plain": [
       "'dursun gönültaşdursun gönültaşdursun gönültaşdursun gönültaşdursun gönültaş'"
      ]
     },
     "execution_count": 19,
     "metadata": {},
     "output_type": "execute_result"
    }
   ],
   "source": [
    "fullname*5"
   ]
  },
  {
   "cell_type": "code",
   "execution_count": 20,
   "id": "52ae1e8e",
   "metadata": {},
   "outputs": [
    {
     "data": {
      "text/plain": [
       "'urs'"
      ]
     },
     "execution_count": 20,
     "metadata": {},
     "output_type": "execute_result"
    }
   ],
   "source": [
    "fullname[1] + fullname[2] + fullname[3]"
   ]
  },
  {
   "cell_type": "code",
   "execution_count": 21,
   "id": "94efdeb0",
   "metadata": {},
   "outputs": [
    {
     "data": {
      "text/plain": [
       "'dursun gönültaş'"
      ]
     },
     "execution_count": 21,
     "metadata": {},
     "output_type": "execute_result"
    }
   ],
   "source": [
    "fullname[::]"
   ]
  },
  {
   "cell_type": "code",
   "execution_count": 23,
   "id": "48c8472a",
   "metadata": {},
   "outputs": [],
   "source": [
    "#fullname[starting index:stopping index:stepping size]"
   ]
  },
  {
   "cell_type": "code",
   "execution_count": 24,
   "id": "e7197837",
   "metadata": {},
   "outputs": [
    {
     "data": {
      "text/plain": [
       "'sun gönültaş'"
      ]
     },
     "execution_count": 24,
     "metadata": {},
     "output_type": "execute_result"
    }
   ],
   "source": [
    "fullname[3::]"
   ]
  },
  {
   "cell_type": "code",
   "execution_count": 25,
   "id": "26fe43cc",
   "metadata": {},
   "outputs": [
    {
     "data": {
      "text/plain": [
       "'s'"
      ]
     },
     "execution_count": 25,
     "metadata": {},
     "output_type": "execute_result"
    }
   ],
   "source": [
    "fullname[3:4:]"
   ]
  },
  {
   "cell_type": "code",
   "execution_count": 26,
   "id": "3719c2cf",
   "metadata": {},
   "outputs": [
    {
     "data": {
      "text/plain": [
       "'dur'"
      ]
     },
     "execution_count": 26,
     "metadata": {},
     "output_type": "execute_result"
    }
   ],
   "source": [
    "fullname[:3:]"
   ]
  },
  {
   "cell_type": "code",
   "execution_count": 27,
   "id": "230a57fe",
   "metadata": {},
   "outputs": [
    {
     "data": {
      "text/plain": [
       "'ds nt'"
      ]
     },
     "execution_count": 27,
     "metadata": {},
     "output_type": "execute_result"
    }
   ],
   "source": [
    "fullname[::3]"
   ]
  },
  {
   "cell_type": "code",
   "execution_count": 28,
   "id": "79d2d4c9",
   "metadata": {},
   "outputs": [
    {
     "data": {
      "text/plain": [
       "'dursun gönülta'"
      ]
     },
     "execution_count": 28,
     "metadata": {},
     "output_type": "execute_result"
    }
   ],
   "source": [
    "fullname[:-1:]"
   ]
  },
  {
   "cell_type": "code",
   "execution_count": 29,
   "id": "de4e990c",
   "metadata": {},
   "outputs": [
    {
     "data": {
      "text/plain": [
       "'su'"
      ]
     },
     "execution_count": 29,
     "metadata": {},
     "output_type": "execute_result"
    }
   ],
   "source": [
    "fullname[3:5]"
   ]
  },
  {
   "cell_type": "code",
   "execution_count": 30,
   "id": "5fd86064",
   "metadata": {},
   "outputs": [
    {
     "data": {
      "text/plain": [
       "'şatlünög nusrud'"
      ]
     },
     "execution_count": 30,
     "metadata": {},
     "output_type": "execute_result"
    }
   ],
   "source": [
    "fullname[::-1]"
   ]
  },
  {
   "cell_type": "code",
   "execution_count": 32,
   "id": "e5c8faff",
   "metadata": {},
   "outputs": [
    {
     "data": {
      "text/plain": [
       "3"
      ]
     },
     "execution_count": 32,
     "metadata": {},
     "output_type": "execute_result"
    }
   ],
   "source": [
    "fullname.index(\"s\") #ilk bulduğunun indexi"
   ]
  },
  {
   "cell_type": "code",
   "execution_count": 35,
   "id": "6ceb5cb3",
   "metadata": {},
   "outputs": [
    {
     "data": {
      "text/plain": [
       "['dursun', 'gönültaş']"
      ]
     },
     "execution_count": 35,
     "metadata": {},
     "output_type": "execute_result"
    }
   ],
   "source": [
    "fullname.split()"
   ]
  },
  {
   "cell_type": "code",
   "execution_count": 36,
   "id": "b255e99c",
   "metadata": {},
   "outputs": [
    {
     "data": {
      "text/plain": [
       "list"
      ]
     },
     "execution_count": 36,
     "metadata": {},
     "output_type": "execute_result"
    }
   ],
   "source": [
    "type(name.split())"
   ]
  },
  {
   "cell_type": "code",
   "execution_count": null,
   "id": "499c4fa2",
   "metadata": {},
   "outputs": [],
   "source": []
  }
 ],
 "metadata": {
  "kernelspec": {
   "display_name": "Python 3 (ipykernel)",
   "language": "python",
   "name": "python3"
  },
  "language_info": {
   "codemirror_mode": {
    "name": "ipython",
    "version": 3
   },
   "file_extension": ".py",
   "mimetype": "text/x-python",
   "name": "python",
   "nbconvert_exporter": "python",
   "pygments_lexer": "ipython3",
   "version": "3.9.13"
  }
 },
 "nbformat": 4,
 "nbformat_minor": 5
}
