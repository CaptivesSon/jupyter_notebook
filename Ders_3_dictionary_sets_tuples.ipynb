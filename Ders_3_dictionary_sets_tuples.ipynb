{
 "cells": [
  {
   "cell_type": "markdown",
   "id": "c4f244f3",
   "metadata": {},
   "source": [
    "# Dictionary"
   ]
  },
  {
   "cell_type": "code",
   "execution_count": 1,
   "id": "0d1c8acc",
   "metadata": {},
   "outputs": [],
   "source": [
    "#key- value pairing"
   ]
  },
  {
   "cell_type": "code",
   "execution_count": 2,
   "id": "3a67b688",
   "metadata": {},
   "outputs": [],
   "source": [
    "fitnessDictionary = {\"banana\":100, \"apple\":50}"
   ]
  },
  {
   "cell_type": "code",
   "execution_count": 3,
   "id": "0991f9e5",
   "metadata": {},
   "outputs": [
    {
     "data": {
      "text/plain": [
       "100"
      ]
     },
     "execution_count": 3,
     "metadata": {},
     "output_type": "execute_result"
    }
   ],
   "source": [
    "fitnessDictionary[\"banana\"]"
   ]
  },
  {
   "cell_type": "code",
   "execution_count": 6,
   "id": "fe73f826",
   "metadata": {},
   "outputs": [],
   "source": [
    "#fitnessDictionary[o] #hata verir"
   ]
  },
  {
   "cell_type": "code",
   "execution_count": 8,
   "id": "a70ca018",
   "metadata": {},
   "outputs": [
    {
     "data": {
      "text/plain": [
       "dict_keys(['banana', 'apple'])"
      ]
     },
     "execution_count": 8,
     "metadata": {},
     "output_type": "execute_result"
    }
   ],
   "source": [
    "fitnessDictionary.keys()"
   ]
  },
  {
   "cell_type": "code",
   "execution_count": 9,
   "id": "3d13010c",
   "metadata": {},
   "outputs": [
    {
     "data": {
      "text/plain": [
       "dict_values([100, 50])"
      ]
     },
     "execution_count": 9,
     "metadata": {},
     "output_type": "execute_result"
    }
   ],
   "source": [
    "fitnessDictionary.values()"
   ]
  },
  {
   "cell_type": "code",
   "execution_count": 12,
   "id": "e658638e",
   "metadata": {},
   "outputs": [
    {
     "data": {
      "text/plain": [
       "dict_values"
      ]
     },
     "execution_count": 12,
     "metadata": {},
     "output_type": "execute_result"
    }
   ],
   "source": [
    "type(fitnessDictionary.values())"
   ]
  },
  {
   "cell_type": "code",
   "execution_count": 13,
   "id": "3971e509",
   "metadata": {},
   "outputs": [
    {
     "data": {
      "text/plain": [
       "[100, 50]"
      ]
     },
     "execution_count": 13,
     "metadata": {},
     "output_type": "execute_result"
    }
   ],
   "source": [
    "list(fitnessDictionary.values())"
   ]
  },
  {
   "cell_type": "code",
   "execution_count": 14,
   "id": "bf4a32dc",
   "metadata": {},
   "outputs": [],
   "source": [
    "fitnessDictionary[\"melon\"] = 300"
   ]
  },
  {
   "cell_type": "code",
   "execution_count": 15,
   "id": "1380376c",
   "metadata": {},
   "outputs": [
    {
     "data": {
      "text/plain": [
       "{'banana': 100, 'apple': 50, 'melon': 300}"
      ]
     },
     "execution_count": 15,
     "metadata": {},
     "output_type": "execute_result"
    }
   ],
   "source": [
    "fitnessDictionary"
   ]
  },
  {
   "cell_type": "code",
   "execution_count": 18,
   "id": "ea7f6b12",
   "metadata": {},
   "outputs": [],
   "source": [
    "#fitnessDictionary[\"appl\"] #hata verir"
   ]
  },
  {
   "cell_type": "code",
   "execution_count": 20,
   "id": "0979c66a",
   "metadata": {},
   "outputs": [
    {
     "data": {
      "text/plain": [
       "0"
      ]
     },
     "execution_count": 20,
     "metadata": {},
     "output_type": "execute_result"
    }
   ],
   "source": [
    "fitnessDictionary.get(\"appl\",0)"
   ]
  },
  {
   "cell_type": "code",
   "execution_count": 22,
   "id": "adbbb4d8",
   "metadata": {},
   "outputs": [
    {
     "data": {
      "text/plain": [
       "50"
      ]
     },
     "execution_count": 22,
     "metadata": {},
     "output_type": "execute_result"
    }
   ],
   "source": [
    "fitnessDictionary.get(\"apple\",0) #doğru yazarsan asıl değer yanlış yazarsan verdiğin değer"
   ]
  },
  {
   "cell_type": "code",
   "execution_count": 23,
   "id": "9a48e245",
   "metadata": {},
   "outputs": [],
   "source": [
    "fitnessDictionary[\"deneme\"] = [1,2,3]"
   ]
  },
  {
   "cell_type": "code",
   "execution_count": 24,
   "id": "255bbe79",
   "metadata": {},
   "outputs": [
    {
     "data": {
      "text/plain": [
       "{'banana': 100, 'apple': 50, 'melon': 300, 'deneme': [1, 2, 3]}"
      ]
     },
     "execution_count": 24,
     "metadata": {},
     "output_type": "execute_result"
    }
   ],
   "source": [
    "fitnessDictionary"
   ]
  },
  {
   "cell_type": "code",
   "execution_count": 25,
   "id": "49e5427e",
   "metadata": {},
   "outputs": [
    {
     "data": {
      "text/plain": [
       "2"
      ]
     },
     "execution_count": 25,
     "metadata": {},
     "output_type": "execute_result"
    }
   ],
   "source": [
    "fitnessDictionary[\"deneme\"][1]"
   ]
  },
  {
   "cell_type": "code",
   "execution_count": 26,
   "id": "e445c165",
   "metadata": {},
   "outputs": [],
   "source": [
    "fitnessDictionary[\"deneme2\"] = {\"k1\":111, \"k2\":222}"
   ]
  },
  {
   "cell_type": "code",
   "execution_count": 27,
   "id": "7af3cf9d",
   "metadata": {},
   "outputs": [
    {
     "data": {
      "text/plain": [
       "{'banana': 100,\n",
       " 'apple': 50,\n",
       " 'melon': 300,\n",
       " 'deneme': [1, 2, 3],\n",
       " 'deneme2': {'k1': 111, 'k2': 222}}"
      ]
     },
     "execution_count": 27,
     "metadata": {},
     "output_type": "execute_result"
    }
   ],
   "source": [
    "fitnessDictionary"
   ]
  },
  {
   "cell_type": "code",
   "execution_count": 31,
   "id": "4fd54c12",
   "metadata": {},
   "outputs": [
    {
     "data": {
      "text/plain": [
       "114"
      ]
     },
     "execution_count": 31,
     "metadata": {},
     "output_type": "execute_result"
    }
   ],
   "source": [
    "fitnessDictionary[\"deneme\"][2] + fitnessDictionary[\"deneme2\"][\"k1\"] #dikkat etttt!!!!"
   ]
  },
  {
   "cell_type": "markdown",
   "id": "6d0f4700",
   "metadata": {},
   "source": [
    "# Sets"
   ]
  },
  {
   "cell_type": "code",
   "execution_count": 33,
   "id": "ce1639d7",
   "metadata": {},
   "outputs": [],
   "source": [
    "#unique elements, unordered"
   ]
  },
  {
   "cell_type": "code",
   "execution_count": 38,
   "id": "8c72a4e2",
   "metadata": {},
   "outputs": [],
   "source": [
    "myList = [10,70,30,40,50,40,70]"
   ]
  },
  {
   "cell_type": "code",
   "execution_count": 39,
   "id": "aa6675fb",
   "metadata": {},
   "outputs": [
    {
     "data": {
      "text/plain": [
       "[10, 70, 30, 40, 50, 40, 70]"
      ]
     },
     "execution_count": 39,
     "metadata": {},
     "output_type": "execute_result"
    }
   ],
   "source": [
    "myList"
   ]
  },
  {
   "cell_type": "code",
   "execution_count": 40,
   "id": "0fc99a49",
   "metadata": {},
   "outputs": [],
   "source": [
    "mySet = set(myList)"
   ]
  },
  {
   "cell_type": "code",
   "execution_count": 41,
   "id": "bffef509",
   "metadata": {},
   "outputs": [
    {
     "data": {
      "text/plain": [
       "{10, 30, 40, 50, 70}"
      ]
     },
     "execution_count": 41,
     "metadata": {},
     "output_type": "execute_result"
    }
   ],
   "source": [
    "mySet"
   ]
  },
  {
   "cell_type": "code",
   "execution_count": 42,
   "id": "9cd008ad",
   "metadata": {},
   "outputs": [],
   "source": [
    "mySet.add(55)"
   ]
  },
  {
   "cell_type": "code",
   "execution_count": 43,
   "id": "e67ec80b",
   "metadata": {},
   "outputs": [
    {
     "data": {
      "text/plain": [
       "{10, 30, 40, 50, 55, 70}"
      ]
     },
     "execution_count": 43,
     "metadata": {},
     "output_type": "execute_result"
    }
   ],
   "source": [
    "mySet"
   ]
  },
  {
   "cell_type": "code",
   "execution_count": 44,
   "id": "14c0f5d3",
   "metadata": {},
   "outputs": [],
   "source": [
    "mySet2 = {15,30,50,55}"
   ]
  },
  {
   "cell_type": "code",
   "execution_count": 46,
   "id": "9a997805",
   "metadata": {},
   "outputs": [
    {
     "data": {
      "text/plain": [
       "{10, 15, 30, 40, 50, 55, 70}"
      ]
     },
     "execution_count": 46,
     "metadata": {},
     "output_type": "execute_result"
    }
   ],
   "source": [
    "mySet.union(mySet2)"
   ]
  },
  {
   "cell_type": "code",
   "execution_count": 47,
   "id": "21852fcc",
   "metadata": {},
   "outputs": [
    {
     "data": {
      "text/plain": [
       "{30, 50, 55}"
      ]
     },
     "execution_count": 47,
     "metadata": {},
     "output_type": "execute_result"
    }
   ],
   "source": [
    "mySet.intersection(mySet2)"
   ]
  },
  {
   "cell_type": "code",
   "execution_count": 48,
   "id": "ff79f883",
   "metadata": {},
   "outputs": [],
   "source": [
    "countryList = [\"de\",\"fr\",\"tr\",\"fr\",\"tr\",\"tr\",\"de\",\"nl\",\"tr\",\"de\"]"
   ]
  },
  {
   "cell_type": "code",
   "execution_count": 49,
   "id": "439a4b80",
   "metadata": {},
   "outputs": [
    {
     "data": {
      "text/plain": [
       "10"
      ]
     },
     "execution_count": 49,
     "metadata": {},
     "output_type": "execute_result"
    }
   ],
   "source": [
    "len(countryList)"
   ]
  },
  {
   "cell_type": "code",
   "execution_count": 51,
   "id": "a9950155",
   "metadata": {},
   "outputs": [
    {
     "data": {
      "text/plain": [
       "4"
      ]
     },
     "execution_count": 51,
     "metadata": {},
     "output_type": "execute_result"
    }
   ],
   "source": [
    "len(set(countryList)) #kaç ülkeye satış yaptın"
   ]
  },
  {
   "cell_type": "code",
   "execution_count": 52,
   "id": "9d1cb1e4",
   "metadata": {},
   "outputs": [],
   "source": [
    "emptySet = {}"
   ]
  },
  {
   "cell_type": "code",
   "execution_count": 53,
   "id": "e7b6d0e2",
   "metadata": {},
   "outputs": [
    {
     "data": {
      "text/plain": [
       "dict"
      ]
     },
     "execution_count": 53,
     "metadata": {},
     "output_type": "execute_result"
    }
   ],
   "source": [
    "type(emptySet)"
   ]
  },
  {
   "cell_type": "code",
   "execution_count": 54,
   "id": "5782133d",
   "metadata": {},
   "outputs": [],
   "source": [
    "emptySet2 = set()"
   ]
  },
  {
   "cell_type": "code",
   "execution_count": 55,
   "id": "0e1cb724",
   "metadata": {},
   "outputs": [
    {
     "data": {
      "text/plain": [
       "set"
      ]
     },
     "execution_count": 55,
     "metadata": {},
     "output_type": "execute_result"
    }
   ],
   "source": [
    "type(emptySet2)"
   ]
  },
  {
   "cell_type": "code",
   "execution_count": 56,
   "id": "3829b4d6",
   "metadata": {},
   "outputs": [],
   "source": [
    "emptySet2.add(20)\n",
    "emptySet2.add(30)\n",
    "emptySet2.add(10)\n",
    "emptySet2.add(20)\n",
    "emptySet2.add(10)"
   ]
  },
  {
   "cell_type": "code",
   "execution_count": 57,
   "id": "793e44b5",
   "metadata": {},
   "outputs": [
    {
     "data": {
      "text/plain": [
       "{10, 20, 30}"
      ]
     },
     "execution_count": 57,
     "metadata": {},
     "output_type": "execute_result"
    }
   ],
   "source": [
    "emptySet2"
   ]
  },
  {
   "cell_type": "markdown",
   "id": "795011ef",
   "metadata": {},
   "source": [
    "# Tuples"
   ]
  },
  {
   "cell_type": "code",
   "execution_count": 64,
   "id": "874d5f3a",
   "metadata": {},
   "outputs": [],
   "source": [
    "#immutability #tab bas kendin gör"
   ]
  },
  {
   "cell_type": "code",
   "execution_count": 65,
   "id": "9d6f3494",
   "metadata": {},
   "outputs": [],
   "source": [
    "myList = [10, 3.14, \"a\"]"
   ]
  },
  {
   "cell_type": "code",
   "execution_count": 66,
   "id": "05be7fb3",
   "metadata": {},
   "outputs": [
    {
     "data": {
      "text/plain": [
       "list"
      ]
     },
     "execution_count": 66,
     "metadata": {},
     "output_type": "execute_result"
    }
   ],
   "source": [
    "type(myList)"
   ]
  },
  {
   "cell_type": "code",
   "execution_count": 67,
   "id": "5b7ec03a",
   "metadata": {},
   "outputs": [],
   "source": [
    "myTuple = (10, 3.14, \"a\")"
   ]
  },
  {
   "cell_type": "code",
   "execution_count": 68,
   "id": "3134ee7c",
   "metadata": {},
   "outputs": [
    {
     "data": {
      "text/plain": [
       "tuple"
      ]
     },
     "execution_count": 68,
     "metadata": {},
     "output_type": "execute_result"
    }
   ],
   "source": [
    "type(myTuple)"
   ]
  },
  {
   "cell_type": "code",
   "execution_count": 69,
   "id": "ca033b37",
   "metadata": {},
   "outputs": [],
   "source": [
    "#myTuple[0] = 100 #hata verir"
   ]
  },
  {
   "cell_type": "code",
   "execution_count": null,
   "id": "465a4d77",
   "metadata": {},
   "outputs": [],
   "source": []
  }
 ],
 "metadata": {
  "kernelspec": {
   "display_name": "Python 3 (ipykernel)",
   "language": "python",
   "name": "python3"
  },
  "language_info": {
   "codemirror_mode": {
    "name": "ipython",
    "version": 3
   },
   "file_extension": ".py",
   "mimetype": "text/x-python",
   "name": "python",
   "nbconvert_exporter": "python",
   "pygments_lexer": "ipython3",
   "version": "3.9.13"
  }
 },
 "nbformat": 4,
 "nbformat_minor": 5
}
