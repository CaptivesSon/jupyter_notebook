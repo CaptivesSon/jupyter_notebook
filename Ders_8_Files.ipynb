{
 "cells": [
  {
   "cell_type": "markdown",
   "id": "e90fdbb1",
   "metadata": {},
   "source": [
    "### dosya açar ve içine aşağıdakileri yazar"
   ]
  },
  {
   "cell_type": "code",
   "execution_count": 7,
   "id": "ea030e15",
   "metadata": {},
   "outputs": [
    {
     "name": "stdout",
     "output_type": "stream",
     "text": [
      "Overwriting myFile.txt\n"
     ]
    }
   ],
   "source": [
    "%%writefile myFile.txt \n",
    "test 1\n",
    "test 2\n",
    "test 3"
   ]
  },
  {
   "cell_type": "code",
   "execution_count": 8,
   "id": "e6f96c34",
   "metadata": {},
   "outputs": [],
   "source": [
    "my2File = open(\"myFile.txt\") #dosya farklı konumda olsaydı / ile adresi yazcaktık soluna"
   ]
  },
  {
   "cell_type": "code",
   "execution_count": 9,
   "id": "5d022e09",
   "metadata": {},
   "outputs": [
    {
     "data": {
      "text/plain": [
       "'test 1\\ntest 2\\ntest 3\\n'"
      ]
     },
     "execution_count": 9,
     "metadata": {},
     "output_type": "execute_result"
    }
   ],
   "source": [
    "my2File.read()"
   ]
  },
  {
   "cell_type": "code",
   "execution_count": 11,
   "id": "3e67af86",
   "metadata": {},
   "outputs": [
    {
     "data": {
      "text/plain": [
       "''"
      ]
     },
     "execution_count": 11,
     "metadata": {},
     "output_type": "execute_result"
    }
   ],
   "source": [
    "my2File.read() # okumaya kaldığı yerden devam eder"
   ]
  },
  {
   "cell_type": "code",
   "execution_count": 12,
   "id": "d8a5015e",
   "metadata": {},
   "outputs": [
    {
     "data": {
      "text/plain": [
       "0"
      ]
     },
     "execution_count": 12,
     "metadata": {},
     "output_type": "execute_result"
    }
   ],
   "source": [
    "my2File.seek(0) #okuma imlacini başa döndürür"
   ]
  },
  {
   "cell_type": "code",
   "execution_count": 13,
   "id": "bfb200d0",
   "metadata": {},
   "outputs": [
    {
     "data": {
      "text/plain": [
       "'test 1\\ntest 2\\ntest 3\\n'"
      ]
     },
     "execution_count": 13,
     "metadata": {},
     "output_type": "execute_result"
    }
   ],
   "source": [
    "my2File.read()"
   ]
  },
  {
   "cell_type": "code",
   "execution_count": 14,
   "id": "b6238283",
   "metadata": {},
   "outputs": [],
   "source": [
    "my2File.close()"
   ]
  },
  {
   "cell_type": "code",
   "execution_count": 18,
   "id": "bf502f39",
   "metadata": {},
   "outputs": [],
   "source": [
    "with open(\"myFile.txt\") as myFile: #close demene gerek yok\n",
    "    myContent = myFile.read()"
   ]
  },
  {
   "cell_type": "code",
   "execution_count": 19,
   "id": "7abcbfac",
   "metadata": {},
   "outputs": [
    {
     "data": {
      "text/plain": [
       "'test 1\\ntest 2\\ntest 3\\n'"
      ]
     },
     "execution_count": 19,
     "metadata": {},
     "output_type": "execute_result"
    }
   ],
   "source": [
    "myContent"
   ]
  },
  {
   "cell_type": "code",
   "execution_count": 20,
   "id": "fa1e2be2",
   "metadata": {},
   "outputs": [],
   "source": [
    "with open(\"myFile.txt\", mode=\"w\") as myNewfile:\n",
    "    myNewfile.write(\"test 4\")"
   ]
  },
  {
   "cell_type": "code",
   "execution_count": 22,
   "id": "c7681119",
   "metadata": {},
   "outputs": [],
   "source": [
    "with open(\"myFile.txt\", mode=\"r\") as myNewfile2:\n",
    "    myContent = myNewfile2.read()"
   ]
  },
  {
   "cell_type": "code",
   "execution_count": 23,
   "id": "a1114496",
   "metadata": {},
   "outputs": [
    {
     "data": {
      "text/plain": [
       "'test 4'"
      ]
     },
     "execution_count": 23,
     "metadata": {},
     "output_type": "execute_result"
    }
   ],
   "source": [
    "myContent"
   ]
  },
  {
   "cell_type": "markdown",
   "id": "dd7cf2ec",
   "metadata": {},
   "source": [
    "# r ->read, w ->write, a -> append"
   ]
  },
  {
   "cell_type": "code",
   "execution_count": 24,
   "id": "efdbdaca",
   "metadata": {},
   "outputs": [],
   "source": [
    "with open(\"myFile.txt\", mode=\"a\") as myNewfile5:\n",
    "    myNewfile5.write(\"test 5\")"
   ]
  },
  {
   "cell_type": "code",
   "execution_count": 27,
   "id": "7ed7aa15",
   "metadata": {},
   "outputs": [],
   "source": [
    "with open(\"myFile.txt\", mode=\"r\") as myNewfile4:\n",
    "    myContent = myNewfile4.read()"
   ]
  },
  {
   "cell_type": "code",
   "execution_count": 28,
   "id": "f600d571",
   "metadata": {},
   "outputs": [
    {
     "data": {
      "text/plain": [
       "'test 4test 5'"
      ]
     },
     "execution_count": 28,
     "metadata": {},
     "output_type": "execute_result"
    }
   ],
   "source": [
    "myContent"
   ]
  },
  {
   "cell_type": "code",
   "execution_count": null,
   "id": "27cc093c",
   "metadata": {},
   "outputs": [],
   "source": []
  }
 ],
 "metadata": {
  "kernelspec": {
   "display_name": "Python 3 (ipykernel)",
   "language": "python",
   "name": "python3"
  },
  "language_info": {
   "codemirror_mode": {
    "name": "ipython",
    "version": 3
   },
   "file_extension": ".py",
   "mimetype": "text/x-python",
   "name": "python",
   "nbconvert_exporter": "python",
   "pygments_lexer": "ipython3",
   "version": "3.9.13"
  }
 },
 "nbformat": 4,
 "nbformat_minor": 5
}
