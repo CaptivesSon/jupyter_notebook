{
 "cells": [
  {
   "cell_type": "code",
   "execution_count": 2,
   "id": "ec28ff3c",
   "metadata": {},
   "outputs": [
    {
     "name": "stdout",
     "output_type": "stream",
     "text": [
      "Enter age: 35\n"
     ]
    }
   ],
   "source": [
    "age = input(\"Enter age: \")"
   ]
  },
  {
   "cell_type": "code",
   "execution_count": 3,
   "id": "8538c91d",
   "metadata": {},
   "outputs": [],
   "source": [
    "#try - except"
   ]
  },
  {
   "cell_type": "code",
   "execution_count": 7,
   "id": "e02f9307",
   "metadata": {},
   "outputs": [
    {
     "name": "stdout",
     "output_type": "stream",
     "text": [
      "Enter age: dursun\n",
      "Error\n"
     ]
    }
   ],
   "source": [
    "try:\n",
    "    myAge = int(input(\"Enter age: \"))\n",
    "    print(myAge * 2)\n",
    "    \n",
    "except:\n",
    "    print(\"Error\")"
   ]
  },
  {
   "cell_type": "code",
   "execution_count": 13,
   "id": "b1dcf073",
   "metadata": {},
   "outputs": [
    {
     "name": "stdout",
     "output_type": "stream",
     "text": [
      "Enter age: dursun\n",
      "Enter a number\n",
      "Loop\n",
      "Enter age: 19\n",
      "38\n",
      "Else executed\n",
      "Loop\n"
     ]
    }
   ],
   "source": [
    "while True:\n",
    "    try:\n",
    "        myAge = int(input(\"Enter age: \"))\n",
    "        print(myAge * 2)\n",
    "        #break\n",
    "\n",
    "    except ValueError: #hataların ismine göre ayırabilirsin\n",
    "        print(\"Enter a number\")\n",
    "\n",
    "    except: \n",
    "        print(\"Error\")\n",
    "    \n",
    "    else: #sanırım trydan başka neler yapabiliriz mantığı\n",
    "        print(\"Else executed\")\n",
    "        break\n",
    "        \n",
    "    finally: #her döngüde çalışır\n",
    "        print(\"Loop\")"
   ]
  },
  {
   "cell_type": "code",
   "execution_count": null,
   "id": "c2828676",
   "metadata": {},
   "outputs": [],
   "source": []
  }
 ],
 "metadata": {
  "kernelspec": {
   "display_name": "Python 3 (ipykernel)",
   "language": "python",
   "name": "python3"
  },
  "language_info": {
   "codemirror_mode": {
    "name": "ipython",
    "version": 3
   },
   "file_extension": ".py",
   "mimetype": "text/x-python",
   "name": "python",
   "nbconvert_exporter": "python",
   "pygments_lexer": "ipython3",
   "version": "3.9.13"
  }
 },
 "nbformat": 4,
 "nbformat_minor": 5
}
