{
 "cells": [
  {
   "cell_type": "code",
   "execution_count": 33,
   "id": "a109603f",
   "metadata": {},
   "outputs": [],
   "source": [
    "class Person():\n",
    "    #property\n",
    "    #name = \"\"\n",
    "    #age = 0\n",
    "    #gender = \"\"\n",
    "    job = \"\"\n",
    "\n",
    "    #initializer, constructor\n",
    "    def __init__(self, name, age, gender):\n",
    "        self.name = name\n",
    "        self.age = age\n",
    "        self.gender = gender\n",
    "        print(\"Human\")\n",
    "        \n",
    "    #method\n",
    "    def test(self):\n",
    "        print(\"test\")"
   ]
  },
  {
   "cell_type": "code",
   "execution_count": 34,
   "id": "353f0b1f",
   "metadata": {},
   "outputs": [
    {
     "name": "stdout",
     "output_type": "stream",
     "text": [
      "Human\n"
     ]
    }
   ],
   "source": [
    "dursun = Person(\"Dursun\", 19, \"Erkek\")"
   ]
  },
  {
   "cell_type": "code",
   "execution_count": 35,
   "id": "1b04fab7",
   "metadata": {},
   "outputs": [
    {
     "data": {
      "text/plain": [
       "'Dursun'"
      ]
     },
     "execution_count": 35,
     "metadata": {},
     "output_type": "execute_result"
    }
   ],
   "source": [
    "dursun.name"
   ]
  },
  {
   "cell_type": "code",
   "execution_count": 36,
   "id": "96afb982",
   "metadata": {},
   "outputs": [
    {
     "data": {
      "text/plain": [
       "19"
      ]
     },
     "execution_count": 36,
     "metadata": {},
     "output_type": "execute_result"
    }
   ],
   "source": [
    "dursun.age"
   ]
  },
  {
   "cell_type": "code",
   "execution_count": 37,
   "id": "e86666f4",
   "metadata": {},
   "outputs": [
    {
     "name": "stdout",
     "output_type": "stream",
     "text": [
      "test\n"
     ]
    }
   ],
   "source": [
    "dursun.test()"
   ]
  },
  {
   "cell_type": "code",
   "execution_count": 38,
   "id": "ac5e148a",
   "metadata": {},
   "outputs": [],
   "source": [
    "dursun.job = \"developer\""
   ]
  },
  {
   "cell_type": "code",
   "execution_count": 39,
   "id": "a2ccd537",
   "metadata": {},
   "outputs": [],
   "source": [
    "class Dog():\n",
    "\n",
    "    year= 7\n",
    "    \n",
    "    def __init__(self, age=5):\n",
    "        self.age = age\n",
    "        self.dogHumanage = age * self.year\n",
    "        \n",
    "    def humanAge(self):\n",
    "        return self.age * Dog.year #bu kullanım da olur"
   ]
  },
  {
   "cell_type": "code",
   "execution_count": 40,
   "id": "d0bcba94",
   "metadata": {},
   "outputs": [],
   "source": [
    "myDog = Dog(3)"
   ]
  },
  {
   "cell_type": "code",
   "execution_count": 41,
   "id": "ae796818",
   "metadata": {},
   "outputs": [
    {
     "data": {
      "text/plain": [
       "21"
      ]
     },
     "execution_count": 41,
     "metadata": {},
     "output_type": "execute_result"
    }
   ],
   "source": [
    "myDog.humanAge()"
   ]
  },
  {
   "cell_type": "code",
   "execution_count": 42,
   "id": "8deafdaf",
   "metadata": {},
   "outputs": [
    {
     "data": {
      "text/plain": [
       "21"
      ]
     },
     "execution_count": 42,
     "metadata": {},
     "output_type": "execute_result"
    }
   ],
   "source": [
    "myDog.dogHumanage"
   ]
  },
  {
   "cell_type": "code",
   "execution_count": 43,
   "id": "1664a762",
   "metadata": {},
   "outputs": [],
   "source": [
    "Barley = Dog()"
   ]
  },
  {
   "cell_type": "code",
   "execution_count": 44,
   "id": "4d0367ce",
   "metadata": {},
   "outputs": [
    {
     "data": {
      "text/plain": [
       "5"
      ]
     },
     "execution_count": 44,
     "metadata": {},
     "output_type": "execute_result"
    }
   ],
   "source": [
    "Barley.age"
   ]
  },
  {
   "cell_type": "markdown",
   "id": "ab2c70ba",
   "metadata": {},
   "source": [
    "# Inheritence"
   ]
  },
  {
   "cell_type": "code",
   "execution_count": 50,
   "id": "deade994",
   "metadata": {},
   "outputs": [],
   "source": [
    "class PersonPlus(Person):\n",
    "    \n",
    "    def __init__(self, name, age, gender):\n",
    "        Person.__init__(self, name, age, gender)\n",
    "        print(\"Person plus\")\n",
    "        \n",
    "    def test(self):\n",
    "        print(\"test2\")"
   ]
  },
  {
   "cell_type": "code",
   "execution_count": 51,
   "id": "f87a38a1",
   "metadata": {},
   "outputs": [
    {
     "name": "stdout",
     "output_type": "stream",
     "text": [
      "Human\n",
      "Person plus\n"
     ]
    }
   ],
   "source": [
    "muhammet = PersonPlus(\"Muhammet\", 19, \"Erkek\")"
   ]
  },
  {
   "cell_type": "code",
   "execution_count": 52,
   "id": "48cf216f",
   "metadata": {},
   "outputs": [
    {
     "data": {
      "text/plain": [
       "'Erkek'"
      ]
     },
     "execution_count": 52,
     "metadata": {},
     "output_type": "execute_result"
    }
   ],
   "source": [
    "muhammet.gender"
   ]
  },
  {
   "cell_type": "code",
   "execution_count": 53,
   "id": "26a3b271",
   "metadata": {},
   "outputs": [],
   "source": [
    "muhammet.name = \"Muhammet Gonultas\""
   ]
  },
  {
   "cell_type": "code",
   "execution_count": 54,
   "id": "b2377929",
   "metadata": {},
   "outputs": [
    {
     "data": {
      "text/plain": [
       "'Muhammet Gonultas'"
      ]
     },
     "execution_count": 54,
     "metadata": {},
     "output_type": "execute_result"
    }
   ],
   "source": [
    "muhammet.name"
   ]
  },
  {
   "cell_type": "code",
   "execution_count": 55,
   "id": "ff3e1b16",
   "metadata": {},
   "outputs": [
    {
     "name": "stdout",
     "output_type": "stream",
     "text": [
      "test\n"
     ]
    }
   ],
   "source": [
    "dursun.test()"
   ]
  },
  {
   "cell_type": "code",
   "execution_count": 57,
   "id": "89d8a2fa",
   "metadata": {},
   "outputs": [
    {
     "name": "stdout",
     "output_type": "stream",
     "text": [
      "test2\n"
     ]
    }
   ],
   "source": [
    "muhammet.test() #override"
   ]
  },
  {
   "cell_type": "markdown",
   "id": "a1ff1f49",
   "metadata": {},
   "source": [
    "# Polymorphism"
   ]
  },
  {
   "cell_type": "code",
   "execution_count": 74,
   "id": "dd273f2b",
   "metadata": {},
   "outputs": [],
   "source": [
    "class Banana():\n",
    "    \n",
    "    def __init__(self,name):\n",
    "        self.name = name\n",
    "        \n",
    "    def info(self):\n",
    "        return f\"150 calories {self.name}\"\n",
    "    \n",
    "class Apple():\n",
    "    \n",
    "    def __init__(self,name):\n",
    "        self.name = name\n",
    "        \n",
    "    def info(self):\n",
    "        return f\"100 calories {self.name}\""
   ]
  },
  {
   "cell_type": "code",
   "execution_count": 75,
   "id": "509498e6",
   "metadata": {},
   "outputs": [],
   "source": [
    "banana = Banana(\"banana\")"
   ]
  },
  {
   "cell_type": "code",
   "execution_count": 76,
   "id": "761fd10c",
   "metadata": {},
   "outputs": [],
   "source": [
    "apple = Apple(\"apple\")"
   ]
  },
  {
   "cell_type": "code",
   "execution_count": 82,
   "id": "9375b78e",
   "metadata": {},
   "outputs": [],
   "source": [
    "myList = [banana, apple]"
   ]
  },
  {
   "cell_type": "code",
   "execution_count": 83,
   "id": "e11d2a6c",
   "metadata": {},
   "outputs": [
    {
     "data": {
      "text/plain": [
       "'150 calories banana'"
      ]
     },
     "execution_count": 83,
     "metadata": {},
     "output_type": "execute_result"
    }
   ],
   "source": [
    "banana.info()"
   ]
  },
  {
   "cell_type": "code",
   "execution_count": 84,
   "id": "6d2c0117",
   "metadata": {},
   "outputs": [
    {
     "data": {
      "text/plain": [
       "'100 calories apple'"
      ]
     },
     "execution_count": 84,
     "metadata": {},
     "output_type": "execute_result"
    }
   ],
   "source": [
    "apple.info()"
   ]
  },
  {
   "cell_type": "code",
   "execution_count": 85,
   "id": "e887d3dc",
   "metadata": {},
   "outputs": [
    {
     "name": "stdout",
     "output_type": "stream",
     "text": [
      "150 calories banana\n",
      "100 calories apple\n"
     ]
    }
   ],
   "source": [
    "for fruit in myList:\n",
    "    print(fruit.info())"
   ]
  },
  {
   "cell_type": "markdown",
   "id": "f7867eb1",
   "metadata": {},
   "source": [
    "# Encapsulation"
   ]
  },
  {
   "cell_type": "code",
   "execution_count": 104,
   "id": "958702e0",
   "metadata": {},
   "outputs": [],
   "source": [
    "class Phone():\n",
    "    \n",
    "    def __init__(self, name, price):\n",
    "        self.name = name\n",
    "        self.__price = price #sadece sınıf içerisinde erişilebilir\n",
    "        \n",
    "    def info(self):\n",
    "        print(f\"{self.name} price is: {self.__price}\")\n",
    "        \n",
    "    def changePrice(self, price):\n",
    "        self.__price = price"
   ]
  },
  {
   "cell_type": "code",
   "execution_count": 105,
   "id": "fa129f66",
   "metadata": {},
   "outputs": [],
   "source": [
    "iphone = Phone(\"iphone 14\", 500)"
   ]
  },
  {
   "cell_type": "code",
   "execution_count": 106,
   "id": "54c55bb5",
   "metadata": {},
   "outputs": [
    {
     "name": "stdout",
     "output_type": "stream",
     "text": [
      "iphone 14 price is: 500\n"
     ]
    }
   ],
   "source": [
    "iphone.info()"
   ]
  },
  {
   "cell_type": "code",
   "execution_count": 107,
   "id": "0896e613",
   "metadata": {},
   "outputs": [],
   "source": [
    "iphone.price = 400 #değişmez"
   ]
  },
  {
   "cell_type": "code",
   "execution_count": 108,
   "id": "db97fd8a",
   "metadata": {},
   "outputs": [
    {
     "name": "stdout",
     "output_type": "stream",
     "text": [
      "iphone 14 price is: 500\n"
     ]
    }
   ],
   "source": [
    "iphone.info()"
   ]
  },
  {
   "cell_type": "code",
   "execution_count": 109,
   "id": "e2021743",
   "metadata": {},
   "outputs": [],
   "source": [
    "iphone.__price = 400 #değişmez"
   ]
  },
  {
   "cell_type": "code",
   "execution_count": 110,
   "id": "75bc817e",
   "metadata": {},
   "outputs": [
    {
     "name": "stdout",
     "output_type": "stream",
     "text": [
      "iphone 14 price is: 500\n"
     ]
    }
   ],
   "source": [
    "iphone.info() "
   ]
  },
  {
   "cell_type": "code",
   "execution_count": 111,
   "id": "e7f778cd",
   "metadata": {},
   "outputs": [],
   "source": [
    "iphone.changePrice(400)"
   ]
  },
  {
   "cell_type": "code",
   "execution_count": 112,
   "id": "172627ca",
   "metadata": {},
   "outputs": [
    {
     "name": "stdout",
     "output_type": "stream",
     "text": [
      "iphone 14 price is: 400\n"
     ]
    }
   ],
   "source": [
    "iphone.info()"
   ]
  },
  {
   "cell_type": "markdown",
   "id": "77796b01",
   "metadata": {},
   "source": [
    "# Abstraction "
   ]
  },
  {
   "cell_type": "code",
   "execution_count": 113,
   "id": "05d6b2dc",
   "metadata": {},
   "outputs": [],
   "source": [
    "from abc import ABC, abstractmethod"
   ]
  },
  {
   "cell_type": "code",
   "execution_count": 114,
   "id": "975a7c64",
   "metadata": {},
   "outputs": [],
   "source": [
    "class Car(ABC): #bu bir soyut sınıf, obje oluşturulamaz\n",
    "    \n",
    "    @abstractmethod\n",
    "    def maxSpeed(self):\n",
    "        pass"
   ]
  },
  {
   "cell_type": "code",
   "execution_count": 116,
   "id": "6a68601f",
   "metadata": {},
   "outputs": [],
   "source": [
    "#myCar = Car() "
   ]
  },
  {
   "cell_type": "code",
   "execution_count": 117,
   "id": "22479683",
   "metadata": {},
   "outputs": [],
   "source": [
    "class Tesla(Car):\n",
    "    \n",
    "    def maxSpeed(self): #bunu yapmazsan onje tanımlayınca hata verir\n",
    "        print(\"200 km\")"
   ]
  },
  {
   "cell_type": "code",
   "execution_count": 118,
   "id": "e8f314a3",
   "metadata": {},
   "outputs": [],
   "source": [
    "tesla = Tesla()"
   ]
  },
  {
   "cell_type": "code",
   "execution_count": 120,
   "id": "89eb98e1",
   "metadata": {},
   "outputs": [
    {
     "name": "stdout",
     "output_type": "stream",
     "text": [
      "200 km\n"
     ]
    }
   ],
   "source": [
    "tesla.maxSpeed()"
   ]
  },
  {
   "cell_type": "code",
   "execution_count": 138,
   "id": "411d7502",
   "metadata": {},
   "outputs": [],
   "source": [
    "class Fruit():\n",
    "    \n",
    "    def __init__(self,name,calories):\n",
    "        self.name = name\n",
    "        self.calories = calories\n",
    "        \n",
    "    def __str__(self): #special method\n",
    "        return f\"{self.name}: {self.calories} calories\"\n",
    "    \n",
    "    def __len__(self): #pythonun len komutunu değiştirmek\n",
    "        return self.calories"
   ]
  },
  {
   "cell_type": "code",
   "execution_count": 139,
   "id": "8b972d9a",
   "metadata": {},
   "outputs": [],
   "source": [
    "myFruit = Fruit(\"banana\", 150)"
   ]
  },
  {
   "cell_type": "code",
   "execution_count": 140,
   "id": "a9edb385",
   "metadata": {},
   "outputs": [
    {
     "name": "stdout",
     "output_type": "stream",
     "text": [
      "banana: 150 calories\n"
     ]
    }
   ],
   "source": [
    "print(myFruit) #special methodun çıktısı"
   ]
  },
  {
   "cell_type": "code",
   "execution_count": 141,
   "id": "a6d35873",
   "metadata": {},
   "outputs": [
    {
     "data": {
      "text/plain": [
       "150"
      ]
     },
     "execution_count": 141,
     "metadata": {},
     "output_type": "execute_result"
    }
   ],
   "source": [
    "len(myFruit)"
   ]
  },
  {
   "cell_type": "code",
   "execution_count": null,
   "id": "75cdd68c",
   "metadata": {},
   "outputs": [],
   "source": []
  }
 ],
 "metadata": {
  "kernelspec": {
   "display_name": "Python 3 (ipykernel)",
   "language": "python",
   "name": "python3"
  },
  "language_info": {
   "codemirror_mode": {
    "name": "ipython",
    "version": 3
   },
   "file_extension": ".py",
   "mimetype": "text/x-python",
   "name": "python",
   "nbconvert_exporter": "python",
   "pygments_lexer": "ipython3",
   "version": "3.9.13"
  }
 },
 "nbformat": 4,
 "nbformat_minor": 5
}
