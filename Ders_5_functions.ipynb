{
 "cells": [
  {
   "cell_type": "markdown",
   "id": "68f1022b",
   "metadata": {},
   "source": [
    "# Functions "
   ]
  },
  {
   "cell_type": "code",
   "execution_count": 1,
   "id": "f4d5a3fb",
   "metadata": {},
   "outputs": [],
   "source": [
    "#method vs functions"
   ]
  },
  {
   "cell_type": "code",
   "execution_count": 2,
   "id": "ab5cd17f",
   "metadata": {},
   "outputs": [],
   "source": [
    "def hello_python():\n",
    "    print(\"hi\")"
   ]
  },
  {
   "cell_type": "code",
   "execution_count": 3,
   "id": "844dab40",
   "metadata": {},
   "outputs": [
    {
     "name": "stdout",
     "output_type": "stream",
     "text": [
      "hi\n"
     ]
    }
   ],
   "source": [
    "hello_python()"
   ]
  },
  {
   "cell_type": "code",
   "execution_count": 4,
   "id": "55b3663f",
   "metadata": {},
   "outputs": [],
   "source": [
    "def hello_name(name):\n",
    "    print(\"hello\")\n",
    "    print(name)"
   ]
  },
  {
   "cell_type": "code",
   "execution_count": 5,
   "id": "201c648f",
   "metadata": {},
   "outputs": [
    {
     "name": "stdout",
     "output_type": "stream",
     "text": [
      "hello\n",
      "Muhammet\n"
     ]
    }
   ],
   "source": [
    "hello_name(\"Muhammet\")"
   ]
  },
  {
   "cell_type": "code",
   "execution_count": 6,
   "id": "d22912b7",
   "metadata": {},
   "outputs": [],
   "source": [
    "def sum_example(num1, num2):\n",
    "    print(num1 + num2)"
   ]
  },
  {
   "cell_type": "code",
   "execution_count": 7,
   "id": "6421b527",
   "metadata": {},
   "outputs": [
    {
     "name": "stdout",
     "output_type": "stream",
     "text": [
      "5\n"
     ]
    }
   ],
   "source": [
    "sum_example(2, 3)"
   ]
  },
  {
   "cell_type": "code",
   "execution_count": 8,
   "id": "b419db5b",
   "metadata": {},
   "outputs": [],
   "source": [
    "def hello_surname(surname = \"gonultas\"):\n",
    "    print(surname)"
   ]
  },
  {
   "cell_type": "code",
   "execution_count": 10,
   "id": "4b887bb7",
   "metadata": {},
   "outputs": [
    {
     "name": "stdout",
     "output_type": "stream",
     "text": [
      "gonultas\n"
     ]
    }
   ],
   "source": [
    "hello_surname()"
   ]
  },
  {
   "cell_type": "code",
   "execution_count": 11,
   "id": "9f6c3dba",
   "metadata": {},
   "outputs": [
    {
     "name": "stdout",
     "output_type": "stream",
     "text": [
      "deneme\n"
     ]
    }
   ],
   "source": [
    "hello_surname(\"deneme\")"
   ]
  },
  {
   "cell_type": "code",
   "execution_count": 12,
   "id": "c0b6f2d4",
   "metadata": {},
   "outputs": [],
   "source": [
    "#args, kwargs (arguments, key word arguments)"
   ]
  },
  {
   "cell_type": "code",
   "execution_count": 15,
   "id": "66b79372",
   "metadata": {},
   "outputs": [],
   "source": [
    "def args_sum(*args): # istediğin kadar veri koymanı sağlar, args yazmana gerek yok yıldız şart\n",
    "    return sum(args)"
   ]
  },
  {
   "cell_type": "code",
   "execution_count": 16,
   "id": "b261d59b",
   "metadata": {},
   "outputs": [
    {
     "data": {
      "text/plain": [
       "120"
      ]
     },
     "execution_count": 16,
     "metadata": {},
     "output_type": "execute_result"
    }
   ],
   "source": [
    "args_sum(10, 20, 40, 50)"
   ]
  },
  {
   "cell_type": "code",
   "execution_count": 17,
   "id": "aee9f933",
   "metadata": {},
   "outputs": [],
   "source": [
    "def kwargs_example(**kwargs): #istediğin kadar veri yıldız şart kwargs değil\n",
    "    print(kwargs)"
   ]
  },
  {
   "cell_type": "code",
   "execution_count": 21,
   "id": "b8ecd3d8",
   "metadata": {},
   "outputs": [
    {
     "name": "stdout",
     "output_type": "stream",
     "text": [
      "{'apple': 100, 'banana': 200}\n"
     ]
    }
   ],
   "source": [
    "kwargs_example(apple=100, banana=200)"
   ]
  },
  {
   "cell_type": "markdown",
   "id": "c65a87ac",
   "metadata": {},
   "source": [
    "# def kwargs_example2(**kwargs):\n",
    "    if \"apple\" in kwargs:\n",
    "        print(\":)\")\n",
    "    else:\n",
    "        print(\":(\")"
   ]
  },
  {
   "cell_type": "code",
   "execution_count": 24,
   "id": "97a094cd",
   "metadata": {},
   "outputs": [
    {
     "name": "stdout",
     "output_type": "stream",
     "text": [
      ":)\n"
     ]
    }
   ],
   "source": [
    "kwargs_example2(apple=100, banana=200)"
   ]
  },
  {
   "cell_type": "markdown",
   "id": "e68d7712",
   "metadata": {},
   "source": [
    "# map"
   ]
  },
  {
   "cell_type": "code",
   "execution_count": 26,
   "id": "8edef1e8",
   "metadata": {},
   "outputs": [],
   "source": [
    "def controlString(string):\n",
    "    return \"Atil\" in string"
   ]
  },
  {
   "cell_type": "code",
   "execution_count": 28,
   "id": "24932923",
   "metadata": {},
   "outputs": [],
   "source": [
    "myStringlist = [\"Atil\", \"Atil samancioglu\", \"dursun\", \"Dursun gonultas\"]"
   ]
  },
  {
   "cell_type": "code",
   "execution_count": 30,
   "id": "9df7b923",
   "metadata": {},
   "outputs": [
    {
     "data": {
      "text/plain": [
       "[True, True, False, False]"
      ]
     },
     "execution_count": 30,
     "metadata": {},
     "output_type": "execute_result"
    }
   ],
   "source": [
    "list(map(controlString, myStringlist)) #verilen fonksiyonu verilen listedeki her elemana uygular"
   ]
  },
  {
   "cell_type": "markdown",
   "id": "2d61469d",
   "metadata": {},
   "source": [
    "# Filters"
   ]
  },
  {
   "cell_type": "code",
   "execution_count": 34,
   "id": "0ab26c01",
   "metadata": {},
   "outputs": [
    {
     "data": {
      "text/plain": [
       "['Atil', 'Atil samancioglu']"
      ]
     },
     "execution_count": 34,
     "metadata": {},
     "output_type": "execute_result"
    }
   ],
   "source": [
    "list(filter(controlString, myStringlist)) #map gibi ama veriyi elde tutar"
   ]
  },
  {
   "cell_type": "markdown",
   "id": "3bb337d7",
   "metadata": {},
   "source": [
    "# Lambda    "
   ]
  },
  {
   "cell_type": "code",
   "execution_count": 39,
   "id": "b01887dc",
   "metadata": {},
   "outputs": [],
   "source": [
    "multiplyLambda = lambda num : num/2 #kısa fonksiyonları tanımlama"
   ]
  },
  {
   "cell_type": "code",
   "execution_count": 40,
   "id": "7d28cb0b",
   "metadata": {},
   "outputs": [
    {
     "data": {
      "text/plain": [
       "function"
      ]
     },
     "execution_count": 40,
     "metadata": {},
     "output_type": "execute_result"
    }
   ],
   "source": [
    "type(multiplyLambda)"
   ]
  },
  {
   "cell_type": "code",
   "execution_count": 41,
   "id": "1ed266eb",
   "metadata": {},
   "outputs": [],
   "source": [
    "numList = [10, 20, 30, 40, 50]"
   ]
  },
  {
   "cell_type": "code",
   "execution_count": 42,
   "id": "b1706bbb",
   "metadata": {},
   "outputs": [
    {
     "data": {
      "text/plain": [
       "[2.5, 5.0, 7.5, 10.0, 12.5]"
      ]
     },
     "execution_count": 42,
     "metadata": {},
     "output_type": "execute_result"
    }
   ],
   "source": [
    "list(map(lambda num : num/4, numList))"
   ]
  },
  {
   "cell_type": "markdown",
   "id": "e13b8982",
   "metadata": {},
   "source": [
    "# Scope"
   ]
  },
  {
   "cell_type": "code",
   "execution_count": 43,
   "id": "48278226",
   "metadata": {},
   "outputs": [],
   "source": [
    "x = 20\n",
    "\n",
    "def multiply(num):\n",
    "    x = 5\n",
    "    return x*num"
   ]
  },
  {
   "cell_type": "code",
   "execution_count": 45,
   "id": "4a76a389",
   "metadata": {},
   "outputs": [
    {
     "data": {
      "text/plain": [
       "50"
      ]
     },
     "execution_count": 45,
     "metadata": {},
     "output_type": "execute_result"
    }
   ],
   "source": [
    "multiply(10)"
   ]
  },
  {
   "cell_type": "code",
   "execution_count": 46,
   "id": "93b7a721",
   "metadata": {},
   "outputs": [
    {
     "data": {
      "text/plain": [
       "20"
      ]
     },
     "execution_count": 46,
     "metadata": {},
     "output_type": "execute_result"
    }
   ],
   "source": [
    "x"
   ]
  },
  {
   "cell_type": "markdown",
   "id": "29cd81a8",
   "metadata": {},
   "source": [
    "# LEGB local enclosing global built-in"
   ]
  },
  {
   "cell_type": "code",
   "execution_count": 70,
   "id": "ebd065ad",
   "metadata": {},
   "outputs": [],
   "source": [
    "#önce locale bakar, sonra enclosing, sonra global"
   ]
  },
  {
   "cell_type": "code",
   "execution_count": 71,
   "id": "321555c1",
   "metadata": {},
   "outputs": [],
   "source": [
    "#global\n",
    "myString = \"Dursun\"\n",
    "def myFunction():\n",
    "    #enclosing\n",
    "    myString = \"Dursun 2\"\n",
    "    print(myString)\n",
    "        \n",
    "    def myFunction2():\n",
    "        #local\n",
    "        myString = \"Dursun 3\"\n",
    "        print(myString)\n",
    "        \n",
    "    myFunction2()"
   ]
  },
  {
   "cell_type": "code",
   "execution_count": 72,
   "id": "25210836",
   "metadata": {},
   "outputs": [
    {
     "data": {
      "text/plain": [
       "'Dursun'"
      ]
     },
     "execution_count": 72,
     "metadata": {},
     "output_type": "execute_result"
    }
   ],
   "source": [
    "myString"
   ]
  },
  {
   "cell_type": "code",
   "execution_count": 73,
   "id": "33f55c3f",
   "metadata": {},
   "outputs": [
    {
     "name": "stdout",
     "output_type": "stream",
     "text": [
      "Dursun 2\n",
      "Dursun 3\n"
     ]
    }
   ],
   "source": [
    "myFunction()"
   ]
  },
  {
   "cell_type": "code",
   "execution_count": 74,
   "id": "ff65f0f2",
   "metadata": {},
   "outputs": [
    {
     "data": {
      "text/plain": [
       "'Dursun'"
      ]
     },
     "execution_count": 74,
     "metadata": {},
     "output_type": "execute_result"
    }
   ],
   "source": [
    "myString"
   ]
  },
  {
   "cell_type": "code",
   "execution_count": 75,
   "id": "e802cc20",
   "metadata": {},
   "outputs": [],
   "source": [
    "#myFunction2() hata verir"
   ]
  },
  {
   "cell_type": "code",
   "execution_count": 79,
   "id": "8a47749e",
   "metadata": {},
   "outputs": [],
   "source": [
    "y=10\n",
    "def change_y():\n",
    "    global y\n",
    "    y=5\n",
    "    print(y)"
   ]
  },
  {
   "cell_type": "code",
   "execution_count": 80,
   "id": "b0464a98",
   "metadata": {},
   "outputs": [
    {
     "data": {
      "text/plain": [
       "10"
      ]
     },
     "execution_count": 80,
     "metadata": {},
     "output_type": "execute_result"
    }
   ],
   "source": [
    "y"
   ]
  },
  {
   "cell_type": "code",
   "execution_count": 81,
   "id": "b5cec7a7",
   "metadata": {},
   "outputs": [
    {
     "name": "stdout",
     "output_type": "stream",
     "text": [
      "5\n"
     ]
    }
   ],
   "source": [
    "change_y()"
   ]
  },
  {
   "cell_type": "code",
   "execution_count": 82,
   "id": "1f452368",
   "metadata": {},
   "outputs": [
    {
     "data": {
      "text/plain": [
       "5"
      ]
     },
     "execution_count": 82,
     "metadata": {},
     "output_type": "execute_result"
    }
   ],
   "source": [
    "y"
   ]
  },
  {
   "cell_type": "code",
   "execution_count": null,
   "id": "4e4e6064",
   "metadata": {},
   "outputs": [],
   "source": []
  }
 ],
 "metadata": {
  "kernelspec": {
   "display_name": "Python 3 (ipykernel)",
   "language": "python",
   "name": "python3"
  },
  "language_info": {
   "codemirror_mode": {
    "name": "ipython",
    "version": 3
   },
   "file_extension": ".py",
   "mimetype": "text/x-python",
   "name": "python",
   "nbconvert_exporter": "python",
   "pygments_lexer": "ipython3",
   "version": "3.9.13"
  }
 },
 "nbformat": 4,
 "nbformat_minor": 5
}
